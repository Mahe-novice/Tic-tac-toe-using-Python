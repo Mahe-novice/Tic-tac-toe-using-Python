{
 "cells": [
  {
   "cell_type": "code",
   "execution_count": 1,
   "metadata": {},
   "outputs": [],
   "source": [
    "board = [' ']*10\n",
    "slots = ['1','2','3','4','5','6','7','8','9']"
   ]
  },
  {
   "cell_type": "code",
   "execution_count": 2,
   "metadata": {},
   "outputs": [],
   "source": [
    "from IPython.display import clear_output\n",
    "\n",
    "def display_board(board):\n",
    "    clear_output()\n",
    "    print('  |   |  ')\n",
    "    print (board[1]+' '+'|'+' ' +board[2]+' '+'|'+' ' +board[3])\n",
    "    print('--|---|--')\n",
    "    print (board[4]+' '+'|'+' ' +board[5]+' '+'|'+' ' +board[6])\n",
    "    print('--|---|--')\n",
    "    print (board[7]+' '+'|'+' ' +board[8]+' '+'|'+' ' +board[9])\n",
    "    print('  |   |  ')"
   ]
  },
  {
   "cell_type": "code",
   "execution_count": 3,
   "metadata": {},
   "outputs": [],
   "source": [
    "def player_input():\n",
    "    place_holder = ''\n",
    "    while place_holder != 'x' and place_holder != 'o':\n",
    "        place_holder = input('Player One, Choose either x or o :')\n",
    "    player1 = place_holder\n",
    "    if player1 == 'x':\n",
    "        player2 = 'o'\n",
    "    else:\n",
    "        player2 = 'x'\n",
    "    return (player1,player2)"
   ]
  },
  {
   "cell_type": "code",
   "execution_count": 6,
   "metadata": {},
   "outputs": [
    {
     "name": "stdin",
     "output_type": "stream",
     "text": [
      "Player One, Choose either x or o : o\n"
     ]
    }
   ],
   "source": [
    "player1_placehholder,player2_placeholder = player_input()"
   ]
  },
  {
   "cell_type": "code",
   "execution_count": 7,
   "metadata": {},
   "outputs": [
    {
     "name": "stdout",
     "output_type": "stream",
     "text": [
      "  |   |  \n",
      "  |   |  \n",
      "--|---|--\n",
      "  |   |  \n",
      "--|---|--\n",
      "  |   |  \n",
      "  |   |  \n"
     ]
    }
   ],
   "source": [
    "display_board(board)"
   ]
  },
  {
   "cell_type": "code",
   "execution_count": 8,
   "metadata": {},
   "outputs": [],
   "source": [
    "def place_maker(board,player_input,player_slot):\n",
    "    board[player_slot] = player_input\n",
    "    return display_board(board)"
   ]
  },
  {
   "cell_type": "code",
   "execution_count": 9,
   "metadata": {},
   "outputs": [
    {
     "name": "stdout",
     "output_type": "stream",
     "text": [
      "  |   |  \n",
      "  |   |  \n",
      "--|---|--\n",
      "x |   |  \n",
      "--|---|--\n",
      "  |   |  \n",
      "  |   |  \n"
     ]
    }
   ],
   "source": [
    "place_maker(board,'x',4)"
   ]
  },
  {
   "cell_type": "code",
   "execution_count": 10,
   "metadata": {},
   "outputs": [],
   "source": [
    "def win_check(board,mark):\n",
    "    return ((board[1] == mark and board[2] == mark and board[3] == mark) or\n",
    "        (board[4] == mark and board[5] == mark and board[6] == mark) or\n",
    "        (board[7] == mark and board[8] == mark and board[9] == mark) or\n",
    "        (board[1] == mark and board[5] == mark and board[9] == mark) or\n",
    "        (board[3] == mark and board[5] == mark and board[7] == mark) or\n",
    "        (board[1] == mark and board[4] == mark and board[7] == mark) or\n",
    "        (board[2] == mark and board[5] == mark and board[8] == mark) or\n",
    "        (board[3] == mark and board[6] == mark and board[9] == mark))"
   ]
  },
  {
   "cell_type": "code",
   "execution_count": 11,
   "metadata": {},
   "outputs": [],
   "source": [
    "def space_check(board,position):\n",
    "        return board[position] == ' '"
   ]
  },
  {
   "cell_type": "code",
   "execution_count": 12,
   "metadata": {},
   "outputs": [],
   "source": [
    "def full_board_check(board):\n",
    "    for n in range(1,10):\n",
    "        if space_check(board,n):\n",
    "            return False\n",
    "    return True"
   ]
  },
  {
   "cell_type": "code",
   "execution_count": 13,
   "metadata": {},
   "outputs": [],
   "source": [
    "import random\n",
    "\n",
    "def choose_first():\n",
    "    if random.randint(0,1) == 0:\n",
    "        return 'Player 2'\n",
    "    else:\n",
    "        return 'Player 1'"
   ]
  },
  {
   "cell_type": "code",
   "execution_count": 14,
   "metadata": {},
   "outputs": [],
   "source": [
    "def player_slot(board):\n",
    "    position = 0\n",
    "    \n",
    "    while position not in [1,2,3,4,5,6,7,8,9] or not space_check(board, position):\n",
    "        position = int(input('Choose your next position: (1-9) '))\n",
    "        \n",
    "    return position"
   ]
  },
  {
   "cell_type": "code",
   "execution_count": 15,
   "metadata": {},
   "outputs": [],
   "source": [
    "def replay():\n",
    "    return input ('Do you want to restart the game?? yes or no:').lower().startswith('y')"
   ]
  },
  {
   "cell_type": "code",
   "execution_count": 16,
   "metadata": {},
   "outputs": [
    {
     "name": "stdout",
     "output_type": "stream",
     "text": [
      "Welcome to Tic Tac Toe\n"
     ]
    },
    {
     "name": "stdin",
     "output_type": "stream",
     "text": [
      "Player One, Choose either x or o : x\n"
     ]
    },
    {
     "name": "stdout",
     "output_type": "stream",
     "text": [
      "Player 2 will go first\n"
     ]
    },
    {
     "name": "stdin",
     "output_type": "stream",
     "text": [
      "Are you ready to play? Enter Yes or No. n\n",
      "Do you want to restart the game?? yes or no: n\n"
     ]
    }
   ],
   "source": [
    "print (\"Welcome to Tic Tac Toe\")\n",
    "\n",
    "while True:\n",
    "    #Resetting the board\n",
    "    playboard =[' ']*10\n",
    "    \n",
    "    #Asking Players to choose their marks\n",
    "    player1_placeholder,player2_placeholder = player_input()\n",
    "    \n",
    "    #Randomly selecting whom to go first\n",
    "    turn = choose_first()\n",
    "    print(turn + ' will go first')\n",
    "    \n",
    "    play_game = input('Are you ready to play? Enter Yes or No.')\n",
    "    \n",
    "    if play_game.lower()[0] == 'y':\n",
    "        game_on = True\n",
    "    else:\n",
    "        game_on = False\n",
    "        \n",
    "    while game_on:\n",
    "         #To proceed with Player 1's choice\n",
    "        if turn == 'Player 1':\n",
    "            display_board(playboard)\n",
    "            position = player_slot(playboard)\n",
    "            place_maker(playboard,player1_placeholder,position)\n",
    "            \n",
    "            if win_check(playboard,player1_placeholder):\n",
    "                display_board(playboard)\n",
    "                print (\"Congrats Player one has won\")\n",
    "                game_on = False \n",
    "            else:\n",
    "                if full_board_check(playboard):\n",
    "                    display_board(playboard)\n",
    "                    print ('The game has ended in a draw')\n",
    "                    break\n",
    "                else:\n",
    "                    turn = 'Player 2'\n",
    "        #To proceed with Player 2's choice\n",
    "        else:\n",
    "            display_board(playboard)\n",
    "            position = player_slot(playboard)\n",
    "            place_maker(playboard,player2_placeholder,position)\n",
    "            \n",
    "            if win_check(playboard,player2_placeholder):\n",
    "                display_board(playboard)\n",
    "                print('Congrats Player two has won')\n",
    "                game_on = False \n",
    "            else:\n",
    "                if full_board_check(playboard):\n",
    "                    display_board(playboard)\n",
    "                    print ('The game has ended in a draw')\n",
    "                    break\n",
    "                else:\n",
    "                    turn = 'Player 1'\n",
    "                    \n",
    "    #Asking for a rematch\n",
    "    if not replay():\n",
    "        break"
   ]
  }
 ],
 "metadata": {
  "kernelspec": {
   "display_name": "Python 3",
   "language": "python",
   "name": "python3"
  },
  "language_info": {
   "codemirror_mode": {
    "name": "ipython",
    "version": 3
   },
   "file_extension": ".py",
   "mimetype": "text/x-python",
   "name": "python",
   "nbconvert_exporter": "python",
   "pygments_lexer": "ipython3",
   "version": "3.7.3"
  }
 },
 "nbformat": 4,
 "nbformat_minor": 2
}
